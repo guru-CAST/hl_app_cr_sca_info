{
 "metadata": {
  "language_info": {
   "codemirror_mode": {
    "name": "ipython",
    "version": 3
   },
   "file_extension": ".py",
   "mimetype": "text/x-python",
   "name": "python",
   "nbconvert_exporter": "python",
   "pygments_lexer": "ipython3",
   "version": "3.8.1-final"
  },
  "orig_nbformat": 2,
  "kernelspec": {
   "name": "Python 3.8.1 32-bit",
   "display_name": "Python 3.8.1 32-bit",
   "metadata": {
    "interpreter": {
     "hash": "bb294ca0c2d3a544d80c9b2498ff06f5db5d7a2c75917129c1ee534449d2c33a"
    }
   }
  }
 },
 "nbformat": 4,
 "nbformat_minor": 2,
 "cells": [
  {
   "cell_type": "code",
   "execution_count": 1,
   "metadata": {},
   "outputs": [],
   "source": [
    "import pandas as pd\n",
    "import generate_app_CR_SCA_info as my_app\n",
    "excel_file = r'.\\App_CR_And_SCA_Info.xlsx'"
   ]
  },
  {
   "source": [
    "    app_info_df = pd.DataFrame()\n",
    "    sca_info_df = pd.DataFrame()\n",
    "    app_info_df = my_app.get_app_info()\n",
    "    total_apps = len(app_info_df)\n",
    "    cloudready_info_df = my_app.get_cloudready_info(app_info_df)\n",
    "    my_app.adjust_cr_cols(cloudready_info_df)\n",
    "    cloudready_info_df = cloudready_info_df[['Application Id','Application Name', 'Technology', 'Rule Type', \\\n",
    "                               'Contribution Score', 'Effort', 'Roadblocks', 'Criticality', 'Rule Impact',   \\\n",
    "                               'Rule Category', 'Rule', 'Doc Reference']]\n",
    "    sca_info_df = my_app.get_sca_info(app_info_df)\n",
    "    my_app.adjust_sca_cols(sca_info_df)\n",
    "    sca_info_df = sca_info_df[['Application Id','Application Name', 'CWE Id', 'CWE Label',       \\\n",
    "                               'CVE', 'Criticality', 'CVE Link', 'CPE', 'Id', 'Component Name',  \\\n",
    "                               'Component Vendor', 'Description']]\n",
    "\n",
    "    "
   ],
   "cell_type": "code",
   "metadata": {},
   "execution_count": 2,
   "outputs": [
    {
     "output_type": "stream",
     "name": "stdout",
     "text": [
      "Retrieving App Info..\n",
      "0it [00:00, ?it/s]Done.\n",
      "\n",
      "Retrieving CloudReady info..\n",
      "11it [00:07,  1.39it/s]\n",
      "0it [00:00, ?it/s]\n",
      "Done.\n",
      "\n",
      "Retrieving SCA info..\n",
      "11it [00:10,  1.08it/s]\n",
      "Done.\n",
      "\n"
     ]
    }
   ]
  },
  {
   "cell_type": "code",
   "execution_count": 3,
   "metadata": {},
   "outputs": [],
   "source": [
    "    writer = pd.ExcelWriter(excel_file, engine='xlsxwriter')\n",
    "    app_info_df.to_excel(writer, index=False, sheet_name='Applications', startrow=1,header=False)\n",
    "    cloudready_info_df.to_excel(writer, index=False, sheet_name='Cloud', startrow=1,header=False)\n",
    "    sca_info_df.to_excel(writer, index=False, sheet_name='SCA', startrow=1,header=False)"
   ]
  },
  {
   "cell_type": "code",
   "execution_count": 4,
   "metadata": {},
   "outputs": [],
   "source": [
    "def max_word_size(mystring):\n",
    "    size = 0\n",
    "    for c in mystring:\n",
    "        size = max(len(c),size)\n",
    "    return size\n"
   ]
  },
  {
   "cell_type": "code",
   "execution_count": 7,
   "metadata": {},
   "outputs": [
    {
     "output_type": "error",
     "ename": "NameError",
     "evalue": "name 'rows' is not defined",
     "traceback": [
      "\u001b[1;31m---------------------------------------------------------------------------\u001b[0m",
      "\u001b[1;31mNameError\u001b[0m                                 Traceback (most recent call last)",
      "\u001b[1;32m<ipython-input-7-5f7202423b24>\u001b[0m in \u001b[0;36m<module>\u001b[1;34m\u001b[0m\n\u001b[0;32m      8\u001b[0m     \u001b[0mworksheet\u001b[0m\u001b[1;33m.\u001b[0m\u001b[0mwrite\u001b[0m\u001b[1;33m(\u001b[0m\u001b[1;36m0\u001b[0m\u001b[1;33m,\u001b[0m \u001b[0mcol_num\u001b[0m\u001b[1;33m,\u001b[0m \u001b[0mvalue\u001b[0m\u001b[1;33m,\u001b[0m \u001b[0mheader_format\u001b[0m\u001b[1;33m)\u001b[0m\u001b[1;33m\u001b[0m\u001b[1;33m\u001b[0m\u001b[0m\n\u001b[0;32m      9\u001b[0m     \u001b[0mworksheet\u001b[0m\u001b[1;33m.\u001b[0m\u001b[0mset_column\u001b[0m\u001b[1;33m(\u001b[0m\u001b[0mcol_num\u001b[0m\u001b[1;33m,\u001b[0m \u001b[0mcol_num\u001b[0m\u001b[1;33m,\u001b[0m \u001b[0mmin\u001b[0m\u001b[1;33m(\u001b[0m\u001b[0mmax_word_size\u001b[0m\u001b[1;33m(\u001b[0m\u001b[0mvalue\u001b[0m\u001b[1;33m)\u001b[0m\u001b[1;33m*\u001b[0m\u001b[1;36m12\u001b[0m\u001b[1;33m,\u001b[0m\u001b[1;36m60\u001b[0m\u001b[1;33m*\u001b[0m\u001b[1;36m12\u001b[0m\u001b[1;33m)\u001b[0m\u001b[1;33m)\u001b[0m\u001b[1;33m\u001b[0m\u001b[1;33m\u001b[0m\u001b[0m\n\u001b[1;32m---> 10\u001b[1;33m \u001b[0mworksheet\u001b[0m\u001b[1;33m.\u001b[0m\u001b[0mautofilter\u001b[0m\u001b[1;33m(\u001b[0m\u001b[1;36m0\u001b[0m\u001b[1;33m,\u001b[0m\u001b[1;36m0\u001b[0m\u001b[1;33m,\u001b[0m\u001b[0mrows\u001b[0m\u001b[1;33m,\u001b[0m\u001b[0mcols\u001b[0m\u001b[1;33m)\u001b[0m\u001b[1;33m\u001b[0m\u001b[1;33m\u001b[0m\u001b[0m\n\u001b[0m\u001b[0;32m     11\u001b[0m \u001b[1;33m\u001b[0m\u001b[0m\n\u001b[0;32m     12\u001b[0m \u001b[1;33m\u001b[0m\u001b[0m\n",
      "\u001b[1;31mNameError\u001b[0m: name 'rows' is not defined"
     ]
    }
   ],
   "source": [
    "    workbook = writer.book\n",
    "    worksheet = writer.sheets['Applications']\n",
    "\n",
    "    font_size=12\n",
    "    header_format = workbook.add_format({'bg_color': '#4F81BD','font_color': '#EEECE1','bold':True, 'font_size':12,'text_wrap':True,'center_across':True})\n",
    "    # Write the column headers with the defined format.\n",
    "    for col_num, value in enumerate(app_info_df.columns.values):\n",
    "        worksheet.write(0, col_num, value, header_format)\n",
    "        worksheet.set_column(col_num, col_num, min(max_word_size(value)*12,60*12))\n",
    "\n",
    "    # Write the column headers with the defined format.\n",
    "    rows = len(app_info_df)\n",
    "    cols = len(app_info_df.columns)\n",
    "    worksheet.autofilter(0,0,rows,cols)\n",
    "\n",
    "\n",
    "\n",
    "\n",
    "    writer.save()\n"
   ]
  },
  {
   "cell_type": "code",
   "execution_count": null,
   "metadata": {},
   "outputs": [],
   "source": []
  }
 ]
}